{
 "cells": [
  {
   "cell_type": "code",
   "execution_count": 34,
   "metadata": {},
   "outputs": [
    {
     "name": "stdout",
     "output_type": "stream",
     "text": [
      "6000\n",
      "1306\n",
      "{'Arknight444': 999, 'MightyWolf_': 2999, 'BillyBobJoe': 3999, 'Bobby': 5999}\n",
      "{'totalEntrees': 6000}\n",
      "{'prevNum': 2001}\n"
     ]
    }
   ],
   "source": [
    "#imports\n",
    "import random\n",
    "\n",
    "#variables and dictionaries\n",
    "info = {\n",
    "    'totalEntrees' : 0\n",
    "}\n",
    "secRange = {\n",
    "    #Do not delete, variables will be added later\n",
    "}\n",
    "prekNum = {\n",
    "    \"prevNum\" : 0\n",
    "}\n",
    "entreeRange = {\n",
    "    #Do not delete, variables will be added later\n",
    "}\n",
    "#function\n",
    "def makeEntree(name, numEntrees):\n",
    "    #function variables\n",
    "    minName = \"min\" + name\n",
    "    maxName = \"max\" + name\n",
    "    \n",
    "    #function execution\n",
    "    info['totalEntrees'] = info['totalEntrees'] + numEntrees\n",
    "    prekNum[\"prevNum\"] = numEntrees + 1\n",
    "    secRange[name] = numEntrees + info['totalEntrees'] - prekNum[\"prevNum\"]\n",
    "    #entreeRange[minName] = secRange[name] \n",
    "    #entreeRange[maxName] = \n",
    "#Entrees\n",
    "\"\"\"\n",
    "Note: You have to manually add each entry. The first argument is the name of the enterer, and the 2nd argument is the number\n",
    "of entrees that enterer entered.\n",
    "\"\"\"\n",
    "makeEntree('Arknight444', 1000)\n",
    "makeEntree('MightyWolf_', 2000)\n",
    "makeEntree('BillyBobJoe', 1000)\n",
    "makeEntree(\"Bobby\", 2000)\n",
    "\n",
    "#Printing\n",
    "\"\"\"\n",
    "IMPORTANT: The first number displayed is the total number of entrees\n",
    "The second number is the random number chosen\n",
    "The third dictionary displayes each enterer's name and the last number of their range.\n",
    "So each person's range is from the previous person's last number +1 to the number displayed next\n",
    "to their name. Still working on display for winner.\n",
    "\"\"\"\n",
    "pinkVar = info['totalEntrees']\n",
    "print(pinkVar)\n",
    "print(random.randint(0, pinkVar + 999))\n",
    "print(secRange)\n",
    "print(info)\n",
    "print(prekNum)"
   ]
  }
 ],
 "metadata": {
  "kernelspec": {
   "display_name": "Python 3",
   "language": "python",
   "name": "python3"
  },
  "language_info": {
   "codemirror_mode": {
    "name": "ipython",
    "version": 3
   },
   "file_extension": ".py",
   "mimetype": "text/x-python",
   "name": "python",
   "nbconvert_exporter": "python",
   "pygments_lexer": "ipython3",
   "version": "3.6.4"
  }
 },
 "nbformat": 4,
 "nbformat_minor": 2
}
